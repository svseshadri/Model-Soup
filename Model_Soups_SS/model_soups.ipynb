{
 "cells": [
  {
   "cell_type": "code",
   "execution_count": null,
   "metadata": {},
   "outputs": [
    {
     "name": "stdout",
     "output_type": "stream",
     "text": [
      "\n",
      "Weights from C:\\Users\\Sri Seshadri\\Desktop\\Sri RLXF\\trained_models\\SFT_ESM2_35M\\sft_updated_esm2_version_0.pt:\n",
      "tensor([[-3.6652e-03, -1.9487e-01,  8.1242e-03, -4.9705e-03,  1.4702e-02],\n",
      "        [-1.1057e-01, -5.2987e-01,  1.2668e-01, -1.0137e-02,  3.4593e-01],\n",
      "        [ 3.2176e-02, -2.0748e-01, -4.8242e-03, -1.4734e-02,  1.5920e-02],\n",
      "        [-1.1008e-01, -5.3231e-01,  1.2728e-01, -3.9668e-03,  3.4007e-01],\n",
      "        [ 1.7804e-01,  5.5836e-02, -3.5763e-04,  7.5548e-03, -7.6871e-03]])\n",
      "\n",
      "Weights from C:\\Users\\Sri Seshadri\\Desktop\\Sri RLXF\\trained_models\\SFT_ESM2_35M\\sft_updated_esm2_version_1.pt:\n",
      "tensor([[-0.0124, -0.1433, -0.0062,  0.0175,  0.0135],\n",
      "        [-0.0606, -0.4748,  0.0759, -0.0090,  0.2915],\n",
      "        [-0.0086, -0.1552, -0.0038,  0.0099, -0.0093],\n",
      "        [-0.0601, -0.4772,  0.0764, -0.0149,  0.2857],\n",
      "        [ 0.1374,  0.0363,  0.0121, -0.0313, -0.0030]])\n",
      "\n",
      "Weights from C:\\Users\\Sri Seshadri\\Desktop\\Sri RLXF\\trained_models\\SFT_ESM2_35M\\sft_updated_esm2_version_2.pt:\n",
      "tensor([[-0.0124, -0.1433, -0.0062,  0.0175,  0.0135],\n",
      "        [-0.0606, -0.4748,  0.0759, -0.0090,  0.2915],\n",
      "        [-0.0086, -0.1552, -0.0038,  0.0099, -0.0093],\n",
      "        [-0.0601, -0.4772,  0.0764, -0.0149,  0.2857],\n",
      "        [ 0.1374,  0.0363,  0.0121, -0.0313, -0.0030]])\n",
      "\n",
      "Averaged weights:\n",
      "tensor([[-0.0095, -0.1605, -0.0014,  0.0100,  0.0139],\n",
      "        [-0.0772, -0.4931,  0.0928, -0.0094,  0.3097],\n",
      "        [ 0.0050, -0.1726, -0.0042,  0.0017, -0.0009],\n",
      "        [-0.0768, -0.4956,  0.0934, -0.0113,  0.3038],\n",
      "        [ 0.1510,  0.0428,  0.0079, -0.0184, -0.0046]])\n"
     ]
    }
   ],
   "source": [
    "from transformers import AutoModelForMaskedLM\n",
    "import torch\n",
    "import copy \n",
    "\n",
    "def load_and_average_checkpoints(checkpoint_paths):\n",
    "    models = []\n",
    "    for path in checkpoint_paths:\n",
    "        checkpoint = torch.load(path)\n",
    "        base_model = AutoModelForMaskedLM.from_pretrained(\"facebook/esm2_t12_35M_UR50D\")\n",
    "        base_model.load_state_dict(checkpoint, strict=False)\n",
    "        models.append(base_model)\n",
    "        \n",
    "        print(f\"\\nWeights from {path}:\")\n",
    "        print(checkpoint['esm.embeddings.word_embeddings.weight'][:5, :5])\n",
    "    \n",
    "    soup_model = copy.deepcopy(models[0])\n",
    "    with torch.no_grad():\n",
    "        for name, param in soup_model.named_parameters():\n",
    "            param_sum = torch.zeros_like(param)\n",
    "            for model in models:\n",
    "                param_sum += model.state_dict()[name]\n",
    "            param.copy_(param_sum / len(models))\n",
    "    \n",
    "    print(\"\\nAveraged weights:\")\n",
    "    print(soup_model.state_dict()['esm.embeddings.word_embeddings.weight'][:5, :5])\n",
    "    \n",
    "    return soup_model\n",
    "\n",
    "paths = [\n",
    "    r\"C:\\Users\\Sri Seshadri\\Desktop\\Sri RLXF\\trained_models\\SFT_ESM2_35M\\sft_updated_esm2_version_0.pt\",\n",
    "    r\"C:\\Users\\Sri Seshadri\\Desktop\\Sri RLXF\\trained_models\\SFT_ESM2_35M\\sft_updated_esm2_version_1.pt\",\n",
    "    r\"C:\\Users\\Sri Seshadri\\Desktop\\Sri RLXF\\trained_models\\SFT_ESM2_35M\\sft_updated_esm2_version_2.pt\"\n",
    "]\n",
    "\n",
    "soup_model = load_and_average_checkpoints(paths)"
   ]
  }
 ],
 "metadata": {
  "kernelspec": {
   "display_name": "RLXF",
   "language": "python",
   "name": "python3"
  },
  "language_info": {
   "codemirror_mode": {
    "name": "ipython",
    "version": 3
   },
   "file_extension": ".py",
   "mimetype": "text/x-python",
   "name": "python",
   "nbconvert_exporter": "python",
   "pygments_lexer": "ipython3",
   "version": "3.8.18"
  }
 },
 "nbformat": 4,
 "nbformat_minor": 2
}
